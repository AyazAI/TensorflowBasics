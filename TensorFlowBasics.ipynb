{
  "nbformat": 4,
  "nbformat_minor": 0,
  "metadata": {
    "colab": {
      "name": "TensorFlowBasics.ipynb",
      "provenance": []
    },
    "kernelspec": {
      "name": "python3",
      "display_name": "Python 3"
    }
  },
  "cells": [
    {
      "cell_type": "code",
      "metadata": {
        "colab_type": "code",
        "id": "RN_AS79JvYS0",
        "colab": {}
      },
      "source": [
        "%tensorflow_version 1.x\n",
        "import tensorflow as tf"
      ],
      "execution_count": 0,
      "outputs": []
    },
    {
      "cell_type": "code",
      "metadata": {
        "id": "qOHyyf2uubgJ",
        "colab_type": "code",
        "colab": {
          "base_uri": "https://localhost:8080/",
          "height": 204
        },
        "outputId": "abb3e161-84df-4976-d546-cae7b6fca9ea"
      },
      "source": [
        "help(eval)"
      ],
      "execution_count": 3,
      "outputs": [
        {
          "output_type": "stream",
          "text": [
            "Help on built-in function eval in module builtins:\n",
            "\n",
            "eval(source, globals=None, locals=None, /)\n",
            "    Evaluate the given source in the context of globals and locals.\n",
            "    \n",
            "    The source may be a string representing a Python expression\n",
            "    or a code object as returned by compile().\n",
            "    The globals must be a dictionary and locals can be any mapping,\n",
            "    defaulting to the current globals and locals.\n",
            "    If only globals is given, locals defaults to it.\n",
            "\n"
          ],
          "name": "stdout"
        }
      ]
    },
    {
      "cell_type": "code",
      "metadata": {
        "id": "f53MEuMVuotI",
        "colab_type": "code",
        "colab": {}
      },
      "source": [
        "name = tf.constant(\"Mo Ayaz\")"
      ],
      "execution_count": 0,
      "outputs": []
    },
    {
      "cell_type": "code",
      "metadata": {
        "id": "scbnqhQbuvNA",
        "colab_type": "code",
        "colab": {
          "base_uri": "https://localhost:8080/",
          "height": 34
        },
        "outputId": "2b5bef60-0afe-468c-cb3f-5e1d89d42ace"
      },
      "source": [
        "with tf.Session() as sess:\n",
        "  initi = tf.global_variables_initializer()\n",
        "  print(name.eval())"
      ],
      "execution_count": 7,
      "outputs": [
        {
          "output_type": "stream",
          "text": [
            "b'Mo Ayaz'\n"
          ],
          "name": "stdout"
        }
      ]
    },
    {
      "cell_type": "code",
      "metadata": {
        "id": "njCYA1qqvcEk",
        "colab_type": "code",
        "colab": {
          "base_uri": "https://localhost:8080/",
          "height": 544
        },
        "outputId": "13491d9d-3f65-4370-ba64-06fd81cda9ef"
      },
      "source": [
        "from __future__ import print_function\n",
        "help(print_function)"
      ],
      "execution_count": 11,
      "outputs": [
        {
          "output_type": "stream",
          "text": [
            "Help on _Feature in module __future__ object:\n",
            "\n",
            "class _Feature(builtins.object)\n",
            " |  Methods defined here:\n",
            " |  \n",
            " |  __init__(self, optionalRelease, mandatoryRelease, compiler_flag)\n",
            " |      Initialize self.  See help(type(self)) for accurate signature.\n",
            " |  \n",
            " |  __repr__(self)\n",
            " |      Return repr(self).\n",
            " |  \n",
            " |  getMandatoryRelease(self)\n",
            " |      Return release in which this feature will become mandatory.\n",
            " |      \n",
            " |      This is a 5-tuple, of the same form as sys.version_info, or, if\n",
            " |      the feature was dropped, is None.\n",
            " |  \n",
            " |  getOptionalRelease(self)\n",
            " |      Return first release in which this feature was recognized.\n",
            " |      \n",
            " |      This is a 5-tuple, of the same form as sys.version_info.\n",
            " |  \n",
            " |  ----------------------------------------------------------------------\n",
            " |  Data descriptors defined here:\n",
            " |  \n",
            " |  __dict__\n",
            " |      dictionary for instance variables (if defined)\n",
            " |  \n",
            " |  __weakref__\n",
            " |      list of weak references to the object (if defined)\n",
            "\n"
          ],
          "name": "stdout"
        }
      ]
    },
    {
      "cell_type": "code",
      "metadata": {
        "id": "jvcAT5bWwfyB",
        "colab_type": "code",
        "colab": {
          "base_uri": "https://localhost:8080/",
          "height": 51
        },
        "outputId": "e37797cf-c624-4c32-e79f-17ca0355acf2"
      },
      "source": [
        "%tensorflow_version 1.x\n",
        "import tensorflow as tf\n",
        "\n",
        "from __future__ import print_function\n",
        "\n",
        "g = tf.Graph()\n",
        "print(g)\n",
        "\n",
        "with g.as_default():\n",
        "  x= tf.constant(2, name='score1')\n",
        "  y= tf.constant(3, name='score2')\n",
        "  sum = tf.add(x,y, name='addedscore')\n",
        "\n",
        "  z= tf.constant(5, name='score3')\n",
        "  newsum = tf.add(sum,z, name='newsum')\n",
        "\n",
        "  with tf.Session() as sess:\n",
        "    print(newsum.eval()) "
      ],
      "execution_count": 27,
      "outputs": [
        {
          "output_type": "stream",
          "text": [
            "<tensorflow.python.framework.ops.Graph object at 0x7fc5c9585048>\n",
            "10\n"
          ],
          "name": "stdout"
        }
      ]
    },
    {
      "cell_type": "code",
      "metadata": {
        "id": "V9YZnyXRwpMv",
        "colab_type": "code",
        "colab": {}
      },
      "source": [
        ""
      ],
      "execution_count": 0,
      "outputs": []
    }
  ]
}